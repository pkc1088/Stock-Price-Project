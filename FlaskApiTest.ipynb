{
 "cells": [
  {
   "cell_type": "code",
   "execution_count": 2,
   "metadata": {},
   "outputs": [
    {
     "ename": "ModuleNotFoundError",
     "evalue": "No module named 'yfinance'",
     "output_type": "error",
     "traceback": [
      "\u001b[1;31m---------------------------------------------------------------------------\u001b[0m",
      "\u001b[1;31mModuleNotFoundError\u001b[0m                       Traceback (most recent call last)",
      "Cell \u001b[1;32mIn[2], line 1\u001b[0m\n\u001b[1;32m----> 1\u001b[0m \u001b[38;5;28;01mimport\u001b[39;00m\u001b[38;5;250m \u001b[39m\u001b[38;5;21;01myfinance\u001b[39;00m\u001b[38;5;250m \u001b[39m\u001b[38;5;28;01mas\u001b[39;00m\u001b[38;5;250m \u001b[39m\u001b[38;5;21;01myf\u001b[39;00m\n\u001b[0;32m      2\u001b[0m \u001b[38;5;28;01mimport\u001b[39;00m\u001b[38;5;250m \u001b[39m\u001b[38;5;21;01mpandas\u001b[39;00m\u001b[38;5;250m \u001b[39m\u001b[38;5;28;01mas\u001b[39;00m\u001b[38;5;250m \u001b[39m\u001b[38;5;21;01mpd\u001b[39;00m\n\u001b[0;32m      4\u001b[0m \u001b[38;5;66;03m# 삼성전자(005930.KQ)의 과거 주가 데이터 가져오기\u001b[39;00m\n",
      "\u001b[1;31mModuleNotFoundError\u001b[0m: No module named 'yfinance'"
     ]
    }
   ],
   "source": [
    "import yfinance as yf\n",
    "import pandas as pd\n",
    "\n",
    "# 삼성전자(005930.KQ)의 과거 주가 데이터 가져오기\n",
    "df = yf.download('005930.KQ', start='2015-01-01', end='2024-01-01')\n",
    "df = df[['Close']]  # 종가(Close)만 사용\n",
    "print(df.tail())\n",
    "from sklearn.preprocessing import MinMaxScaler\n",
    "import numpy as np\n",
    "\n",
    "scaler = MinMaxScaler(feature_range=(0,1)) \n",
    "df_scaled = scaler.fit_transform(df)\n",
    "\n",
    "train_size = int(len(df_scaled) * 0.8)\n",
    "train_data, test_data = df_scaled[:train_size], df_scaled[train_size:]\n",
    "\n",
    "\n",
    "def create_sequences(data, seq_length=50):\n",
    "    x, y = [], []\n",
    "    for i in range(len(data) - seq_length):\n",
    "        x.append(data[i:i+seq_length]) \n",
    "        y.append(data[i+seq_length])   \n",
    "    return np.array(x), np.array(y)    \n",
    "\n",
    "seq_length = 50\n",
    "x_train, y_train = create_sequences(train_data, seq_length)\n",
    "x_test, y_test = create_sequences(test_data, seq_length)\n",
    "\n",
    "#                     LSTM 입력 형식 (samples, timesteps, features)\n",
    "#                                   (배치 크기, 시퀀스 길이, 특성 수)\n",
    "x_train = np.reshape(x_train, (x_train.shape[0], x_train.shape[1], 1)) \n",
    "x_test = np.reshape(x_test, (x_test.shape[0], x_test.shape[1], 1))\n",
    "\n",
    "import tensorflow as tf\n",
    "from tensorflow.keras.models import Sequential\n",
    "from tensorflow.keras.layers import LSTM, Dense, Dropout\n",
    "\n",
    "model = Sequential([\n",
    "    LSTM(units=50, return_sequences=True, input_shape=(seq_length, 1)),\n",
    "    Dropout(0.2), #과적합 방지를 위해 20% 뉴런을 무작위로 비활성화\n",
    "    LSTM(units=50, return_sequences=True), \n",
    "    Dropout(0.2),\n",
    "    LSTM(units=50),  \n",
    "    Dropout(0.2),\n",
    "    Dense(units=1)  # Dens층이 출력층 역할 (주가 예측값) : 최종 출력 노드는 1개 (주가 예측)\n",
    "])\n",
    "\n",
    "\n",
    "model.compile(optimizer='adam', loss='mean_squared_error')\n",
    "model.summary()"
   ]
  },
  {
   "cell_type": "code",
   "execution_count": 1,
   "metadata": {},
   "outputs": [
    {
     "ename": "NameError",
     "evalue": "name 'model' is not defined",
     "output_type": "error",
     "traceback": [
      "\u001b[1;31m---------------------------------------------------------------------------\u001b[0m",
      "\u001b[1;31mNameError\u001b[0m                                 Traceback (most recent call last)",
      "Cell \u001b[1;32mIn[1], line 1\u001b[0m\n\u001b[1;32m----> 1\u001b[0m history \u001b[38;5;241m=\u001b[39m \u001b[43mmodel\u001b[49m\u001b[38;5;241m.\u001b[39mfit(x_train, y_train, epochs\u001b[38;5;241m=\u001b[39m\u001b[38;5;241m20\u001b[39m, batch_size\u001b[38;5;241m=\u001b[39m\u001b[38;5;241m32\u001b[39m, validation_data\u001b[38;5;241m=\u001b[39m(x_test, y_test))\n\u001b[0;32m      2\u001b[0m \u001b[38;5;66;03m#예측 및 성능 평가\u001b[39;00m\n\u001b[0;32m      3\u001b[0m predicted \u001b[38;5;241m=\u001b[39m model\u001b[38;5;241m.\u001b[39mpredict(x_test)\n",
      "\u001b[1;31mNameError\u001b[0m: name 'model' is not defined"
     ]
    }
   ],
   "source": [
    "history = model.fit(x_train, y_train, epochs=20, batch_size=32, validation_data=(x_test, y_test))\n",
    "#예측 및 성능 평가\n",
    "predicted = model.predict(x_test)\n",
    "predicted = scaler.inverse_transform(predicted)  \n",
    "\n",
    "# 실제 가격과 비교\n",
    "import matplotlib.pyplot as plt\n",
    "\n",
    "plt.figure(figsize=(12, 6))\n",
    "plt.plot(df.index[train_size + seq_length:], scaler.inverse_transform(y_test.reshape(-1, 1)), label=\"Actual Price\")\n",
    "plt.plot(df.index[train_size + seq_length:], predicted, label=\"Predicted Price\")\n",
    "plt.legend()\n",
    "plt.show()"
   ]
  }
 ],
 "metadata": {
  "kernelspec": {
   "display_name": "Python 3",
   "language": "python",
   "name": "python3"
  },
  "language_info": {
   "codemirror_mode": {
    "name": "ipython",
    "version": 3
   },
   "file_extension": ".py",
   "mimetype": "text/x-python",
   "name": "python",
   "nbconvert_exporter": "python",
   "pygments_lexer": "ipython3",
   "version": "3.12.6"
  }
 },
 "nbformat": 4,
 "nbformat_minor": 2
}
