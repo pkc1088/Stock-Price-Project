{
 "cells": [
  {
   "cell_type": "code",
   "execution_count": 1,
   "id": "8f380be9",
   "metadata": {},
   "outputs": [],
   "source": [
    "import os\n",
    "import yfinance as yf\n",
    "import time\n",
    "import pandas as pd\n",
    "import mplfinance as mpf\n",
    "import tensorflow as tf\n",
    "import numpy as np\n",
    "from PIL import Image\n",
    "from datetime import timedelta\n",
    "from tensorflow.keras.preprocessing import image"
   ]
  },
  {
   "cell_type": "code",
   "execution_count": 4,
   "id": "6629bc9e",
   "metadata": {},
   "outputs": [
    {
     "name": "stderr",
     "output_type": "stream",
     "text": [
      "WARNING:absl:Compiled the loaded model, but the compiled metrics have yet to be built. `model.compile_metrics` will be empty until you train or evaluate the model.\n"
     ]
    },
    {
     "name": "stdout",
     "output_type": "stream",
     "text": [
      "\n",
      "AAPL 데이터 다운로드 중...\n"
     ]
    },
    {
     "name": "stderr",
     "output_type": "stream",
     "text": [
      "[*********************100%***********************]  1 of 1 completed"
     ]
    },
    {
     "name": "stdout",
     "output_type": "stream",
     "text": [
      "저장 완료: ./data/test\\AAPL_2025-05-13.png\n",
      "\u001b[1m1/1\u001b[0m \u001b[32m━━━━━━━━━━━━━━━━━━━━\u001b[0m\u001b[37m\u001b[0m \u001b[1m0s\u001b[0m 68ms/step\n",
      "예측 확률: [0.04220021 0.95002556 0.00777419]\n",
      "예측 확률: 0.9500, 예측 레이블: neutral\n",
      "예측된 레이블: neutral, 확률: 0.9500\n",
      "\n",
      " 총 1개 이미지 저장 완료\n"
     ]
    },
    {
     "name": "stderr",
     "output_type": "stream",
     "text": [
      "\n"
     ]
    }
   ],
   "source": [
    "# 기준 날짜를 입력으로 받음\n",
    "target_date_str = input(\"기준 날짜 입력 (YYYY-MM-DD): \")\n",
    "target_date = pd.to_datetime(target_date_str)\n",
    "\n",
    "# 저장 경로 설정\n",
    "base_dir = \"./data/test\"\n",
    "os.makedirs(base_dir, exist_ok=True)\n",
    "\n",
    "N_CANDLES = 20\n",
    "saved_count = 0\n",
    "\n",
    "# 종목 티커를 입력받기\n",
    "ticker = input(\"종목 티커 입력: \")\n",
    "\n",
    "# 모델 불러오기\n",
    "model = tf.keras.models.load_model('pattern_classification_model.h5')\n",
    "\n",
    "# 예측 함수 (가장 큰 확률값을 가진 클래스를 선택)\n",
    "def predict_image(img_path):\n",
    "    img = image.load_img(img_path, target_size=(224, 224))  # 모델 입력 크기에 맞춰 이미지 크기 변경\n",
    "    img_array = image.img_to_array(img)  # 이미지를 배열로 변환\n",
    "    img_array = np.expand_dims(img_array, axis=0)  # 배치 차원 추가\n",
    "    img_array /= 255.0  # 정규화\n",
    "\n",
    "    # 예측 수행\n",
    "    prediction = model.predict(img_array)\n",
    "\n",
    "    # 각 클래스에 대한 확률을 출력\n",
    "    print(f\"예측 확률: {prediction[0]}\")  # 각 클래스에 대한 확률 (Drop, Neutral, Surge)\n",
    "    \n",
    "    # 가장 큰 확률을 가진 클래스를 선택 (softmax 출력에서 가장 큰 값 선택)\n",
    "    predicted_class = np.argmax(prediction)  # 가장 큰 확률을 가진 클래스 인덱스\n",
    "    predicted_label = [\"drop\", \"neutral\", \"surge\"][predicted_class]  # 클래스 레이블 지정\n",
    "    prob = prediction[0][predicted_class]  # 해당 클래스의 확률\n",
    "\n",
    "    # 예측 결과 출력\n",
    "    print(f\"예측 확률: {prob:.4f}, 예측 레이블: {predicted_label}\")\n",
    "\n",
    "    return predicted_label, prob\n",
    "\n",
    "\n",
    "try:\n",
    "    print(f\"\\n{ticker} 데이터 다운로드 중...\")\n",
    "    time.sleep(1)\n",
    "\n",
    "    # 종목에 대한 데이터 다운로드\n",
    "    df = yf.download(\n",
    "        ticker,\n",
    "        start=target_date - timedelta(days=40),  # 40일의 데이터를 가져옴\n",
    "        end=target_date + timedelta(days=2),     # target_date 포함\n",
    "        group_by='column'\n",
    "    )\n",
    "\n",
    "    # MultiIndex 컬럼 평탄화\n",
    "    if isinstance(df.columns, pd.MultiIndex):\n",
    "        df.columns = [col[0] for col in df.columns]\n",
    "\n",
    "    if df.empty:\n",
    "        print(f\"{ticker}: 데이터 없음\")\n",
    "    else:\n",
    "        required_cols = [\"Open\", \"High\", \"Low\", \"Close\"]\n",
    "        if not all(col in df.columns for col in required_cols):\n",
    "            print(f\"{ticker}: OHLC 컬럼 누락\")\n",
    "        else:\n",
    "            available_dates = df.index[df.index <= target_date]\n",
    "            if len(available_dates) == 0:\n",
    "                print(f\"{ticker}: {target_date.date()} 이전 거래일 없음\")\n",
    "            else:\n",
    "                actual_date = available_dates[-1]\n",
    "                end_idx = df.index.get_loc(actual_date)\n",
    "\n",
    "                if end_idx < N_CANDLES:\n",
    "                    print(f\"{ticker}: 20봉 이상 데이터 부족\")\n",
    "                else:\n",
    "                    df_slice = df.iloc[end_idx - N_CANDLES:end_idx].copy()\n",
    "\n",
    "                    # 강제 정제: 인덱스 타입, 컬럼 선택, float64 변환, NaN 제거\n",
    "                    df_slice.index = pd.to_datetime(df_slice.index)\n",
    "                    df_slice = df_slice[required_cols].copy()\n",
    "                    df_slice = df_slice.astype(\"float64\")\n",
    "                    df_slice.dropna(inplace=True)\n",
    "\n",
    "                    if len(df_slice) < N_CANDLES:\n",
    "                        print(f\"{ticker}: 정제 후 유효한 캔들 수 부족\")\n",
    "                    else:\n",
    "                        close_today = df.at[df.index[end_idx], \"Close\"]\n",
    "                        close_yesterday = df.at[df.index[end_idx - 1], \"Close\"]\n",
    "                        pct_change = ((close_today - close_yesterday) / close_yesterday) * 100\n",
    "\n",
    "                        filename = f\"{ticker}_{actual_date.date()}.png\"\n",
    "                        out_path = os.path.join(base_dir, filename)\n",
    "\n",
    "                        # 차트 스타일 설정\n",
    "                        mc = mpf.make_marketcolors(up='g', down='r', edge='black', wick='black', volume='gray')\n",
    "                        s = mpf.make_mpf_style(marketcolors=mc, rc={'axes.grid': False})\n",
    "\n",
    "                        # 차트 저장\n",
    "                        mpf.plot(\n",
    "                            df_slice,\n",
    "                            type='candle',\n",
    "                            style=s,\n",
    "                            volume=False,\n",
    "                            axisoff=True,\n",
    "                            tight_layout=True,\n",
    "                            savefig=out_path\n",
    "                        )\n",
    "\n",
    "                        # 이미지 크기 조정\n",
    "                        img = Image.open(out_path)\n",
    "                        img = img.resize((224, 224))\n",
    "                        img.save(out_path)\n",
    "\n",
    "                        print(f\"저장 완료: {out_path}\")\n",
    "                        saved_count += 1\n",
    "\n",
    "                        # 예측 수행\n",
    "                        predicted_label, prob = predict_image(out_path)  # 저장된 이미지에 대해 예측 수행\n",
    "                        print(f\"예측된 레이블: {predicted_label}, 확률: {prob:.4f}\")\n",
    "\n",
    "except Exception as e:\n",
    "    print(f\"{ticker} 처리 중 오류: {e}\")\n",
    "\n",
    "print(f\"\\n 총 {saved_count}개 이미지 저장 완료\")"
   ]
  },
  {
   "cell_type": "code",
   "execution_count": null,
   "id": "4b325036",
   "metadata": {},
   "outputs": [],
   "source": []
  }
 ],
 "metadata": {
  "kernelspec": {
   "display_name": "Python 3",
   "language": "python",
   "name": "python3"
  },
  "language_info": {
   "codemirror_mode": {
    "name": "ipython",
    "version": 3
   },
   "file_extension": ".py",
   "mimetype": "text/x-python",
   "name": "python",
   "nbconvert_exporter": "python",
   "pygments_lexer": "ipython3",
   "version": "3.12.6"
  }
 },
 "nbformat": 4,
 "nbformat_minor": 5
}
